{
 "cells": [
  {
   "cell_type": "markdown",
   "metadata": {},
   "source": [
    "# WAve Models (WAM) Usage Example\n",
    "WAM wave models are most widely used wave models in the world. \n",
    "This notebook illustrates ways of using WAM models data via Planet OS Datahub API, including:\n",
    "point and raster API options\n",
    "\n",
    "API documentation is available at http://docs.planetos.com. If you have questions or comments, join the Planet OS  Slack community to chat with our development team. For general information on usage of IPython/Jupyter and Matplotlib, please refer to their corresponding documentation. https://ipython.org/ and http://matplotlib.org/\n",
    "First, you have to define usable API endpoint, which consists of server name, dataset name, API key and query details. It is necessary to provide location details, for point API single point and raster API, four courners.\n",
    "\n",
    "Also, please make sure you have downloaded all the python modules that are imported below. Note that this example is using Python 3"
   ]
  },
  {
   "cell_type": "code",
   "execution_count": 1,
   "metadata": {
    "collapsed": true
   },
   "outputs": [],
   "source": [
    "%matplotlib notebook\n",
    "import urllib.request\n",
    "import numpy as np\n",
    "import simplejson as json\n",
    "import pandas as pd\n",
    "from netCDF4 import Dataset, date2num, num2date\n",
    "import ipywidgets as widgets\n",
    "from IPython.display import display, clear_output\n",
    "import dateutil.parser\n",
    "import matplotlib.pyplot as plt\n",
    "from mpl_toolkits.basemap import Basemap\n",
    "import time\n",
    "from po_data_process import get_data_from_raster_API,get_data_from_point_API,get_variables_from_detail_api,read_data_to_json,generate_raster_api_query,get_units\n",
    "import warnings\n",
    "import matplotlib.cbook\n",
    "warnings.filterwarnings(\"ignore\",category=matplotlib.cbook.mplDeprecation)"
   ]
  },
  {
   "cell_type": "code",
   "execution_count": 2,
   "metadata": {
    "collapsed": true
   },
   "outputs": [],
   "source": [
    "dataset_keys = ['cmc_gdwps_wave_model_global','dwd_wam_europe','dwd_wam_global',\n",
    "                'cmems_medsea_wave_analysis_forecast_0042','noaa_ww3_global_0.5d']\n",
    "server = \"http://api.planetos.com/v1/datasets/\""
   ]
  },
  {
   "cell_type": "markdown",
   "metadata": {},
   "source": [
    "<font color='red'>Please put your datahub API key into a file called APIKEY and place it to the notebook folder or assign your API key directly to the variable API_key!</font>"
   ]
  },
  {
   "cell_type": "code",
   "execution_count": 3,
   "metadata": {
    "collapsed": true
   },
   "outputs": [],
   "source": [
    "API_key = open('APIKEY').readlines()[0].strip() #'<YOUR API KEY HERE>'"
   ]
  },
  {
   "cell_type": "markdown",
   "metadata": {},
   "source": [
    "Change latitude and longitude to your desired location. Longitude/latitude west/east are for raster API example. "
   ]
  },
  {
   "cell_type": "code",
   "execution_count": 4,
   "metadata": {
    "collapsed": true
   },
   "outputs": [],
   "source": [
    "latitude = 'Please add location for point data'\n",
    "longitude = 'Please add location for point data'\n",
    "longitude_west = 'Please add location for raster data'\n",
    "longitude_east = 'Please add location for raster data'\n",
    "latitude_south = 'Please add location for raster data'\n",
    "latitude_north = 'Please add location for raster data'"
   ]
  },
  {
   "cell_type": "markdown",
   "metadata": {},
   "source": [
    "If you don't want to choose location by yourself, default locations will be used."
   ]
  },
  {
   "cell_type": "code",
   "execution_count": 5,
   "metadata": {
    "collapsed": true
   },
   "outputs": [],
   "source": [
    "default_point_api_loc = {'cmc_gdwps_wave_model_global':['39','-69'],'dwd_wam_europe':['56.3','17.8'],\n",
    "                         'dwd_wam_global':['39','-69'],'cmems_medsea_wave_analysis_forecast_0042':['38.3','5.8'],'noaa_ww3_global_0.5d':['39','-69']}\n",
    "default_raster_api_loc = {'cmc_gdwps_wave_model_global':['36','39','-62','-70'],'dwd_wam_europe':['55.2','56.5','17.4','20.2'],\n",
    "                          'dwd_wam_global':['36','39','-62','-70'],'cmems_medsea_wave_analysis_forecast_0042':['35.8','37.8','16.5','19.5'],\n",
    "                          'noaa_ww3_global_0.5d':['36','39','-62','-70']}"
   ]
  },
  {
   "cell_type": "markdown",
   "metadata": {},
   "source": [
    "Making dropdown for WAM dataset keys, where you can choose WAM model you would like to use. Note that when using Europe/ North-Atlantic/ North-Pacific/ Mediterranean Sea data points have to be from that area!"
   ]
  },
  {
   "cell_type": "code",
   "execution_count": 6,
   "metadata": {},
   "outputs": [
    {
     "data": {
      "application/vnd.jupyter.widget-view+json": {
       "model_id": "39e702c6c3e84a32834da97fc9059af1"
      }
     },
     "metadata": {},
     "output_type": "display_data"
    }
   ],
   "source": [
    "droplist0 = list(dataset_keys)\n",
    "selecter0 = widgets.Dropdown(\n",
    "        options=droplist0,\n",
    "        value=droplist0[0],\n",
    "        description='Select dataset:',\n",
    "        disabled=False,\n",
    "        button_style='' \n",
    "    )\n",
    "\n",
    "display(selecter0)\n"
   ]
  },
  {
   "cell_type": "code",
   "execution_count": 7,
   "metadata": {
    "collapsed": true
   },
   "outputs": [],
   "source": [
    "dataset_key = selecter0.value\n",
    "if latitude.isdigit() == False or longitude.isdigit() == False:\n",
    "    latitude = default_point_api_loc[dataset_key][0]\n",
    "    longitude = default_point_api_loc[dataset_key][1]\n",
    "if latitude_south.isdigit() == False or latitude_north.isdigit() == False or longitude_east.isdigit == False \\\n",
    "or longitude_west.isdigit() == False:\n",
    "    latitude_south = default_raster_api_loc[dataset_key][0]\n",
    "    latitude_north = default_raster_api_loc[dataset_key][1]\n",
    "    longitude_east = default_raster_api_loc[dataset_key][2]\n",
    "    longitude_west = default_raster_api_loc[dataset_key][3]"
   ]
  },
  {
   "cell_type": "code",
   "execution_count": 8,
   "metadata": {
    "collapsed": true
   },
   "outputs": [],
   "source": [
    "def get_sample_var_name(variables, selected_variable, selected_level):\n",
    "    ## The human readable variable name is not the same as the compact one in API request\n",
    "    for i in variables:\n",
    "\n",
    "        if i['longName'] == selected_variable:\n",
    "            var = i['name']\n",
    "        elif i[\"longName\"] == selected_variable + \"@\" + selected_level:\n",
    "            var = i['name']    \n",
    "    return var"
   ]
  },
  {
   "cell_type": "markdown",
   "metadata": {},
   "source": [
    "## Point data API\n",
    "\n",
    "By _point data_ we mean data that is given at a single point (or from single measurement device) at different timesteps. For WAM, this means selection of one single geographic point and getting data for one or more parameters. Note that you need to choose point which has coverage on that area. To follow the examples better, we suggest to pay attention to following API keywords, which may not seem obvious in first place:\n",
    "\n",
    "1. count -- how many values for particular context (set of spatial and temporal dimensions) are returned\n",
    "2. z -- selection of vertical levels (some variables have values on different heights)"
   ]
  },
  {
   "cell_type": "code",
   "execution_count": 9,
   "metadata": {},
   "outputs": [
    {
     "name": "stdout",
     "output_type": "stream",
     "text": [
      "http://api.planetos.com/v1/datasets/cmc_gdwps_wave_model_global/point?lat=39&lon=-69&apikey=8428878e4b944abeb84790e832c633fc&count=100000&z=all&verbose=False\n"
     ]
    }
   ],
   "source": [
    "point_data_frame = get_data_from_point_API(dataset_key,longitude,latitude,API_key)"
   ]
  },
  {
   "cell_type": "markdown",
   "metadata": {
    "collapsed": true
   },
   "source": [
    "Getting variables for choosen dataset"
   ]
  },
  {
   "cell_type": "code",
   "execution_count": 10,
   "metadata": {
    "collapsed": true
   },
   "outputs": [],
   "source": [
    "dataset_variables = get_variables_from_detail_api(server,dataset_key,API_key)\n",
    "vardict = {}\n",
    "\n",
    "levelset = []\n",
    "for i in dataset_variables:\n",
    "    if '@' in i['longName']:\n",
    "        if not i['longName'].split(\"@\")[1] in levelset:\n",
    "            levelset.append(i['longName'].split(\"@\")[1])\n",
    "        varname, varlevel = i['longName'].split(\"@\")\n",
    "    else:\n",
    "        if not 'Ground or water surface' in levelset:\n",
    "            levelset.append('Ground or water surface')\n",
    "        varname, varlevel = i['longName'], 'Ground or water surface'\n",
    "       \n",
    "        \n",
    "    if not varlevel in vardict:\n",
    "        vardict[varlevel] = []\n",
    "        vardict[varlevel].append(varname)\n",
    "    else:\n",
    "        vardict[varlevel].append(varname)"
   ]
  },
  {
   "cell_type": "markdown",
   "metadata": {
    "collapsed": true
   },
   "source": [
    "Now let's plot the data. We are making two dropdown lists. From first you have to choose level type. It means that data is separated by contexts. Context here means just a set of spatial and temporal dimensions for particular variable, like NetCDF dimensions. Each variable has values only in one context. So the NaN's do not come from the API request, but from the current way we use to create the Dataframe. It is not difficult to filter out variables from the dataframe, but for any use case besides observing the data, it is more reasonable to query only the right data from the server."
   ]
  },
  {
   "cell_type": "code",
   "execution_count": 11,
   "metadata": {},
   "outputs": [
    {
     "data": {
      "application/vnd.jupyter.widget-view+json": {
       "model_id": "5f9e647be480406aa19dafcab01329d5"
      }
     },
     "metadata": {},
     "output_type": "display_data"
    },
    {
     "data": {
      "application/vnd.jupyter.widget-view+json": {
       "model_id": "dd096c394c8144bb9c5b2ecb5a33106c"
      }
     },
     "metadata": {},
     "output_type": "display_data"
    }
   ],
   "source": [
    "droplist = list(levelset)\n",
    "\n",
    "selecter = widgets.Dropdown(\n",
    "        options = droplist,\n",
    "        value = droplist[0],\n",
    "        description = 'Select level type:',\n",
    "        disabled = False,\n",
    "        button_style = '' \n",
    "    )\n",
    "selecter2 = widgets.Dropdown(\n",
    "        options = sorted(vardict[selecter.value]),\n",
    "        value = vardict[selecter.value][0],\n",
    "        description = 'Select variable:',\n",
    "        disabled = False,\n",
    "        button_style = ''\n",
    "    )\n",
    "\n",
    "def select_from_list2(sender):\n",
    "    selecter2.options = vardict[selecter.value]\n",
    "    \n",
    "def plot_selected_variable(sender):\n",
    "    clear_output()\n",
    "    sample_var_name = get_sample_var_name(dataset_variables, selecter2.value, selecter.value)\n",
    "    #sample_point_data_json = read_data_to_json(generate_point_api_query(**{'var':sample_var_name,'count':100000}))\n",
    "    sample_point_data_pd = get_data_from_point_API(dataset_key,longitude,latitude,API_key,var=sample_var_name,count=100000)\n",
    "    unit = get_units(dataset_key,sample_var_name,API_key)\n",
    "    \n",
    "    \n",
    "    fig = plt.figure(figsize=(11,4))\n",
    "    ## find how many vertical levels we have\n",
    "    if 'z' in sample_point_data_pd:\n",
    "        zlevels = sample_point_data_pd['z'].unique()\n",
    "        if len(zlevels) != 1:\n",
    "            print(\"Warning: more than one vertical level detected \", zlevels)\n",
    "            \n",
    "        for i in zlevels:\n",
    "            pdata=np.array(sample_point_data_pd[sample_point_data_pd['z'] == i][sample_var_name],dtype=np.float)\n",
    "            if np.sum(np.isnan(pdata)) != pdata.shape[0]:\n",
    "                plt.plot(sample_point_data_pd[sample_point_data_pd['z'] == i]['time'].apply(dateutil.parser.parse),pdata,label=i)\n",
    "            else:\n",
    "                print(\"Cannot plot all empty values!\")\n",
    "    else:\n",
    "        pdata = np.array(sample_point_data_pd[sample_var_name],dtype = np.float)\n",
    "        if np.sum(np.isnan(pdata)) != pdata.shape[0]:\n",
    "            plt.plot(sample_point_data_pd['time'].apply(dateutil.parser.parse), pdata, '*-', label=sample_var_name)      \n",
    "        else:\n",
    "            print(\"Cannot plot all empty values!\")\n",
    "    plt.legend()\n",
    "    plt.grid()\n",
    "    fig.autofmt_xdate()\n",
    "    plt.xlabel('Date')\n",
    "    plt.title(sample_var_name)\n",
    "    plt.ylabel(unit)\n",
    "    plt.show()\n",
    "\n",
    "    \n",
    "display(selecter)\n",
    "display(selecter2)\n",
    "    \n",
    "selecter.observe(select_from_list2)\n",
    "selecter2.observe(plot_selected_variable, names='value')\n"
   ]
  },
  {
   "cell_type": "markdown",
   "metadata": {},
   "source": [
    "## Raster API"
   ]
  },
  {
   "cell_type": "markdown",
   "metadata": {},
   "source": [
    "Now we are using raster API. Please note that the data size returned by raster API is limited, to keep the JSON string size reasonable. If you want to get larger data, please try our new asynchronous API to download NetCDF files: http://docs.planetos.com/?#bulk-data-packaging"
   ]
  },
  {
   "cell_type": "code",
   "execution_count": 12,
   "metadata": {},
   "outputs": [
    {
     "name": "stderr",
     "output_type": "stream",
     "text": [
      "/Users/etoodu/anaconda/envs/py36/lib/python3.6/site-packages/ipykernel_launcher.py:5: RuntimeWarning: All-NaN slice encountered\n",
      "  \"\"\"\n",
      "/Users/etoodu/anaconda/envs/py36/lib/python3.6/site-packages/ipykernel_launcher.py:6: RuntimeWarning: All-NaN slice encountered\n",
      "  \n"
     ]
    }
   ],
   "source": [
    "sample_var_name = get_sample_var_name(dataset_variables, selecter2.value, selecter.value)\n",
    "sample_raster_data = get_data_from_raster_API(dataset_key, longitude_west, latitude_south, \n",
    "                                                   longitude_east, latitude_north, API_key,var=sample_var_name,\n",
    "                                                   count=1000)\n",
    "data_min = np.amin([np.nanmin(np.array(i,dtype=float)) for i in sample_raster_data[sample_var_name]])\n",
    "data_max = np.amax([np.nanmax(np.array(i,dtype=float)) for i in sample_raster_data[sample_var_name]])"
   ]
  },
  {
   "cell_type": "markdown",
   "metadata": {},
   "source": [
    "Longitude and latitude data is necessary for map and it is defined at the beginning of the notebook by user.\n",
    "Map projection can easily be changed by user as well."
   ]
  },
  {
   "cell_type": "code",
   "execution_count": 13,
   "metadata": {
    "collapsed": true
   },
   "outputs": [],
   "source": [
    "raster_latitude = sample_raster_data['indexAxes'][0][0][1]\n",
    "raster_longitude = sample_raster_data['indexAxes'][0][1][1]\n",
    "\n",
    "m = Basemap(projection='merc',llcrnrlat=float(latitude_south),urcrnrlat=float(latitude_north),\\\n",
    "            llcrnrlon=float(longitude_west),urcrnrlon=float(longitude_east),lat_ts=(float(latitude_south)+float(latitude_north))/2,resolution='i')\n",
    "lonmap, latmap = m(np.meshgrid(raster_longitude,raster_latitude)[0],np.meshgrid(raster_longitude, raster_latitude)[1])"
   ]
  },
  {
   "cell_type": "markdown",
   "metadata": {},
   "source": [
    "Now let's map our data! "
   ]
  },
  {
   "cell_type": "code",
   "execution_count": 14,
   "metadata": {},
   "outputs": [
    {
     "data": {
      "application/vnd.jupyter.widget-view+json": {
       "model_id": "659f210a060046c697a8e48275540e7c"
      }
     },
     "metadata": {},
     "output_type": "display_data"
    },
    {
     "data": {
      "text/plain": [
       "<function __main__.loadimg>"
      ]
     },
     "execution_count": 14,
     "metadata": {},
     "output_type": "execute_result"
    }
   ],
   "source": [
    "def loadimg(k):\n",
    "    unit = get_units(dataset_key,sample_var_name,API_key)\n",
    "    fig=plt.figure(figsize=(7,5))\n",
    "    data = np.ma.masked_invalid(np.array(sample_raster_data[sample_var_name][k],dtype=float))\n",
    "    m.pcolormesh(lonmap,latmap,data,vmax=data_max,vmin=data_min)\n",
    "    m.drawcoastlines()\n",
    "    m.drawcountries()\n",
    "    plt.title(selecter2.value + \" \" + sample_raster_data['time'][k],fontsize=10)\n",
    "    cbar = plt.colorbar()\n",
    "    \n",
    "    cbar.set_label(unit)\n",
    "    print(\"Maximum: \",np.nanmax(data))\n",
    "    print(\"Minimum: \",np.nanmin(data))\n",
    "\n",
    "    plt.show()\n",
    "widgets.interact(loadimg, k=widgets.IntSlider(min=0,max=(len(sample_raster_data)-1),step=1,value=0, layout=widgets.Layout(width='100%')))"
   ]
  },
  {
   "cell_type": "markdown",
   "metadata": {},
   "source": [
    "As time slider for image above does not work in GitHub preview, let's make image from first time moment. Although, it will work in your local environment. "
   ]
  },
  {
   "cell_type": "code",
   "execution_count": 15,
   "metadata": {},
   "outputs": [
    {
     "data": {
      "application/javascript": [
       "/* Put everything inside the global mpl namespace */\n",
       "window.mpl = {};\n",
       "\n",
       "\n",
       "mpl.get_websocket_type = function() {\n",
       "    if (typeof(WebSocket) !== 'undefined') {\n",
       "        return WebSocket;\n",
       "    } else if (typeof(MozWebSocket) !== 'undefined') {\n",
       "        return MozWebSocket;\n",
       "    } else {\n",
       "        alert('Your browser does not have WebSocket support.' +\n",
       "              'Please try Chrome, Safari or Firefox ≥ 6. ' +\n",
       "              'Firefox 4 and 5 are also supported but you ' +\n",
       "              'have to enable WebSockets in about:config.');\n",
       "    };\n",
       "}\n",
       "\n",
       "mpl.figure = function(figure_id, websocket, ondownload, parent_element) {\n",
       "    this.id = figure_id;\n",
       "\n",
       "    this.ws = websocket;\n",
       "\n",
       "    this.supports_binary = (this.ws.binaryType != undefined);\n",
       "\n",
       "    if (!this.supports_binary) {\n",
       "        var warnings = document.getElementById(\"mpl-warnings\");\n",
       "        if (warnings) {\n",
       "            warnings.style.display = 'block';\n",
       "            warnings.textContent = (\n",
       "                \"This browser does not support binary websocket messages. \" +\n",
       "                    \"Performance may be slow.\");\n",
       "        }\n",
       "    }\n",
       "\n",
       "    this.imageObj = new Image();\n",
       "\n",
       "    this.context = undefined;\n",
       "    this.message = undefined;\n",
       "    this.canvas = undefined;\n",
       "    this.rubberband_canvas = undefined;\n",
       "    this.rubberband_context = undefined;\n",
       "    this.format_dropdown = undefined;\n",
       "\n",
       "    this.image_mode = 'full';\n",
       "\n",
       "    this.root = $('<div/>');\n",
       "    this._root_extra_style(this.root)\n",
       "    this.root.attr('style', 'display: inline-block');\n",
       "\n",
       "    $(parent_element).append(this.root);\n",
       "\n",
       "    this._init_header(this);\n",
       "    this._init_canvas(this);\n",
       "    this._init_toolbar(this);\n",
       "\n",
       "    var fig = this;\n",
       "\n",
       "    this.waiting = false;\n",
       "\n",
       "    this.ws.onopen =  function () {\n",
       "            fig.send_message(\"supports_binary\", {value: fig.supports_binary});\n",
       "            fig.send_message(\"send_image_mode\", {});\n",
       "            if (mpl.ratio != 1) {\n",
       "                fig.send_message(\"set_dpi_ratio\", {'dpi_ratio': mpl.ratio});\n",
       "            }\n",
       "            fig.send_message(\"refresh\", {});\n",
       "        }\n",
       "\n",
       "    this.imageObj.onload = function() {\n",
       "            if (fig.image_mode == 'full') {\n",
       "                // Full images could contain transparency (where diff images\n",
       "                // almost always do), so we need to clear the canvas so that\n",
       "                // there is no ghosting.\n",
       "                fig.context.clearRect(0, 0, fig.canvas.width, fig.canvas.height);\n",
       "            }\n",
       "            fig.context.drawImage(fig.imageObj, 0, 0);\n",
       "        };\n",
       "\n",
       "    this.imageObj.onunload = function() {\n",
       "        fig.ws.close();\n",
       "    }\n",
       "\n",
       "    this.ws.onmessage = this._make_on_message_function(this);\n",
       "\n",
       "    this.ondownload = ondownload;\n",
       "}\n",
       "\n",
       "mpl.figure.prototype._init_header = function() {\n",
       "    var titlebar = $(\n",
       "        '<div class=\"ui-dialog-titlebar ui-widget-header ui-corner-all ' +\n",
       "        'ui-helper-clearfix\"/>');\n",
       "    var titletext = $(\n",
       "        '<div class=\"ui-dialog-title\" style=\"width: 100%; ' +\n",
       "        'text-align: center; padding: 3px;\"/>');\n",
       "    titlebar.append(titletext)\n",
       "    this.root.append(titlebar);\n",
       "    this.header = titletext[0];\n",
       "}\n",
       "\n",
       "\n",
       "\n",
       "mpl.figure.prototype._canvas_extra_style = function(canvas_div) {\n",
       "\n",
       "}\n",
       "\n",
       "\n",
       "mpl.figure.prototype._root_extra_style = function(canvas_div) {\n",
       "\n",
       "}\n",
       "\n",
       "mpl.figure.prototype._init_canvas = function() {\n",
       "    var fig = this;\n",
       "\n",
       "    var canvas_div = $('<div/>');\n",
       "\n",
       "    canvas_div.attr('style', 'position: relative; clear: both; outline: 0');\n",
       "\n",
       "    function canvas_keyboard_event(event) {\n",
       "        return fig.key_event(event, event['data']);\n",
       "    }\n",
       "\n",
       "    canvas_div.keydown('key_press', canvas_keyboard_event);\n",
       "    canvas_div.keyup('key_release', canvas_keyboard_event);\n",
       "    this.canvas_div = canvas_div\n",
       "    this._canvas_extra_style(canvas_div)\n",
       "    this.root.append(canvas_div);\n",
       "\n",
       "    var canvas = $('<canvas/>');\n",
       "    canvas.addClass('mpl-canvas');\n",
       "    canvas.attr('style', \"left: 0; top: 0; z-index: 0; outline: 0\")\n",
       "\n",
       "    this.canvas = canvas[0];\n",
       "    this.context = canvas[0].getContext(\"2d\");\n",
       "\n",
       "    var backingStore = this.context.backingStorePixelRatio ||\n",
       "\tthis.context.webkitBackingStorePixelRatio ||\n",
       "\tthis.context.mozBackingStorePixelRatio ||\n",
       "\tthis.context.msBackingStorePixelRatio ||\n",
       "\tthis.context.oBackingStorePixelRatio ||\n",
       "\tthis.context.backingStorePixelRatio || 1;\n",
       "\n",
       "    mpl.ratio = (window.devicePixelRatio || 1) / backingStore;\n",
       "\n",
       "    var rubberband = $('<canvas/>');\n",
       "    rubberband.attr('style', \"position: absolute; left: 0; top: 0; z-index: 1;\")\n",
       "\n",
       "    var pass_mouse_events = true;\n",
       "\n",
       "    canvas_div.resizable({\n",
       "        start: function(event, ui) {\n",
       "            pass_mouse_events = false;\n",
       "        },\n",
       "        resize: function(event, ui) {\n",
       "            fig.request_resize(ui.size.width, ui.size.height);\n",
       "        },\n",
       "        stop: function(event, ui) {\n",
       "            pass_mouse_events = true;\n",
       "            fig.request_resize(ui.size.width, ui.size.height);\n",
       "        },\n",
       "    });\n",
       "\n",
       "    function mouse_event_fn(event) {\n",
       "        if (pass_mouse_events)\n",
       "            return fig.mouse_event(event, event['data']);\n",
       "    }\n",
       "\n",
       "    rubberband.mousedown('button_press', mouse_event_fn);\n",
       "    rubberband.mouseup('button_release', mouse_event_fn);\n",
       "    // Throttle sequential mouse events to 1 every 20ms.\n",
       "    rubberband.mousemove('motion_notify', mouse_event_fn);\n",
       "\n",
       "    rubberband.mouseenter('figure_enter', mouse_event_fn);\n",
       "    rubberband.mouseleave('figure_leave', mouse_event_fn);\n",
       "\n",
       "    canvas_div.on(\"wheel\", function (event) {\n",
       "        event = event.originalEvent;\n",
       "        event['data'] = 'scroll'\n",
       "        if (event.deltaY < 0) {\n",
       "            event.step = 1;\n",
       "        } else {\n",
       "            event.step = -1;\n",
       "        }\n",
       "        mouse_event_fn(event);\n",
       "    });\n",
       "\n",
       "    canvas_div.append(canvas);\n",
       "    canvas_div.append(rubberband);\n",
       "\n",
       "    this.rubberband = rubberband;\n",
       "    this.rubberband_canvas = rubberband[0];\n",
       "    this.rubberband_context = rubberband[0].getContext(\"2d\");\n",
       "    this.rubberband_context.strokeStyle = \"#000000\";\n",
       "\n",
       "    this._resize_canvas = function(width, height) {\n",
       "        // Keep the size of the canvas, canvas container, and rubber band\n",
       "        // canvas in synch.\n",
       "        canvas_div.css('width', width)\n",
       "        canvas_div.css('height', height)\n",
       "\n",
       "        canvas.attr('width', width * mpl.ratio);\n",
       "        canvas.attr('height', height * mpl.ratio);\n",
       "        canvas.attr('style', 'width: ' + width + 'px; height: ' + height + 'px;');\n",
       "\n",
       "        rubberband.attr('width', width);\n",
       "        rubberband.attr('height', height);\n",
       "    }\n",
       "\n",
       "    // Set the figure to an initial 600x600px, this will subsequently be updated\n",
       "    // upon first draw.\n",
       "    this._resize_canvas(600, 600);\n",
       "\n",
       "    // Disable right mouse context menu.\n",
       "    $(this.rubberband_canvas).bind(\"contextmenu\",function(e){\n",
       "        return false;\n",
       "    });\n",
       "\n",
       "    function set_focus () {\n",
       "        canvas.focus();\n",
       "        canvas_div.focus();\n",
       "    }\n",
       "\n",
       "    window.setTimeout(set_focus, 100);\n",
       "}\n",
       "\n",
       "mpl.figure.prototype._init_toolbar = function() {\n",
       "    var fig = this;\n",
       "\n",
       "    var nav_element = $('<div/>')\n",
       "    nav_element.attr('style', 'width: 100%');\n",
       "    this.root.append(nav_element);\n",
       "\n",
       "    // Define a callback function for later on.\n",
       "    function toolbar_event(event) {\n",
       "        return fig.toolbar_button_onclick(event['data']);\n",
       "    }\n",
       "    function toolbar_mouse_event(event) {\n",
       "        return fig.toolbar_button_onmouseover(event['data']);\n",
       "    }\n",
       "\n",
       "    for(var toolbar_ind in mpl.toolbar_items) {\n",
       "        var name = mpl.toolbar_items[toolbar_ind][0];\n",
       "        var tooltip = mpl.toolbar_items[toolbar_ind][1];\n",
       "        var image = mpl.toolbar_items[toolbar_ind][2];\n",
       "        var method_name = mpl.toolbar_items[toolbar_ind][3];\n",
       "\n",
       "        if (!name) {\n",
       "            // put a spacer in here.\n",
       "            continue;\n",
       "        }\n",
       "        var button = $('<button/>');\n",
       "        button.addClass('ui-button ui-widget ui-state-default ui-corner-all ' +\n",
       "                        'ui-button-icon-only');\n",
       "        button.attr('role', 'button');\n",
       "        button.attr('aria-disabled', 'false');\n",
       "        button.click(method_name, toolbar_event);\n",
       "        button.mouseover(tooltip, toolbar_mouse_event);\n",
       "\n",
       "        var icon_img = $('<span/>');\n",
       "        icon_img.addClass('ui-button-icon-primary ui-icon');\n",
       "        icon_img.addClass(image);\n",
       "        icon_img.addClass('ui-corner-all');\n",
       "\n",
       "        var tooltip_span = $('<span/>');\n",
       "        tooltip_span.addClass('ui-button-text');\n",
       "        tooltip_span.html(tooltip);\n",
       "\n",
       "        button.append(icon_img);\n",
       "        button.append(tooltip_span);\n",
       "\n",
       "        nav_element.append(button);\n",
       "    }\n",
       "\n",
       "    var fmt_picker_span = $('<span/>');\n",
       "\n",
       "    var fmt_picker = $('<select/>');\n",
       "    fmt_picker.addClass('mpl-toolbar-option ui-widget ui-widget-content');\n",
       "    fmt_picker_span.append(fmt_picker);\n",
       "    nav_element.append(fmt_picker_span);\n",
       "    this.format_dropdown = fmt_picker[0];\n",
       "\n",
       "    for (var ind in mpl.extensions) {\n",
       "        var fmt = mpl.extensions[ind];\n",
       "        var option = $(\n",
       "            '<option/>', {selected: fmt === mpl.default_extension}).html(fmt);\n",
       "        fmt_picker.append(option)\n",
       "    }\n",
       "\n",
       "    // Add hover states to the ui-buttons\n",
       "    $( \".ui-button\" ).hover(\n",
       "        function() { $(this).addClass(\"ui-state-hover\");},\n",
       "        function() { $(this).removeClass(\"ui-state-hover\");}\n",
       "    );\n",
       "\n",
       "    var status_bar = $('<span class=\"mpl-message\"/>');\n",
       "    nav_element.append(status_bar);\n",
       "    this.message = status_bar[0];\n",
       "}\n",
       "\n",
       "mpl.figure.prototype.request_resize = function(x_pixels, y_pixels) {\n",
       "    // Request matplotlib to resize the figure. Matplotlib will then trigger a resize in the client,\n",
       "    // which will in turn request a refresh of the image.\n",
       "    this.send_message('resize', {'width': x_pixels, 'height': y_pixels});\n",
       "}\n",
       "\n",
       "mpl.figure.prototype.send_message = function(type, properties) {\n",
       "    properties['type'] = type;\n",
       "    properties['figure_id'] = this.id;\n",
       "    this.ws.send(JSON.stringify(properties));\n",
       "}\n",
       "\n",
       "mpl.figure.prototype.send_draw_message = function() {\n",
       "    if (!this.waiting) {\n",
       "        this.waiting = true;\n",
       "        this.ws.send(JSON.stringify({type: \"draw\", figure_id: this.id}));\n",
       "    }\n",
       "}\n",
       "\n",
       "\n",
       "mpl.figure.prototype.handle_save = function(fig, msg) {\n",
       "    var format_dropdown = fig.format_dropdown;\n",
       "    var format = format_dropdown.options[format_dropdown.selectedIndex].value;\n",
       "    fig.ondownload(fig, format);\n",
       "}\n",
       "\n",
       "\n",
       "mpl.figure.prototype.handle_resize = function(fig, msg) {\n",
       "    var size = msg['size'];\n",
       "    if (size[0] != fig.canvas.width || size[1] != fig.canvas.height) {\n",
       "        fig._resize_canvas(size[0], size[1]);\n",
       "        fig.send_message(\"refresh\", {});\n",
       "    };\n",
       "}\n",
       "\n",
       "mpl.figure.prototype.handle_rubberband = function(fig, msg) {\n",
       "    var x0 = msg['x0'] / mpl.ratio;\n",
       "    var y0 = (fig.canvas.height - msg['y0']) / mpl.ratio;\n",
       "    var x1 = msg['x1'] / mpl.ratio;\n",
       "    var y1 = (fig.canvas.height - msg['y1']) / mpl.ratio;\n",
       "    x0 = Math.floor(x0) + 0.5;\n",
       "    y0 = Math.floor(y0) + 0.5;\n",
       "    x1 = Math.floor(x1) + 0.5;\n",
       "    y1 = Math.floor(y1) + 0.5;\n",
       "    var min_x = Math.min(x0, x1);\n",
       "    var min_y = Math.min(y0, y1);\n",
       "    var width = Math.abs(x1 - x0);\n",
       "    var height = Math.abs(y1 - y0);\n",
       "\n",
       "    fig.rubberband_context.clearRect(\n",
       "        0, 0, fig.canvas.width, fig.canvas.height);\n",
       "\n",
       "    fig.rubberband_context.strokeRect(min_x, min_y, width, height);\n",
       "}\n",
       "\n",
       "mpl.figure.prototype.handle_figure_label = function(fig, msg) {\n",
       "    // Updates the figure title.\n",
       "    fig.header.textContent = msg['label'];\n",
       "}\n",
       "\n",
       "mpl.figure.prototype.handle_cursor = function(fig, msg) {\n",
       "    var cursor = msg['cursor'];\n",
       "    switch(cursor)\n",
       "    {\n",
       "    case 0:\n",
       "        cursor = 'pointer';\n",
       "        break;\n",
       "    case 1:\n",
       "        cursor = 'default';\n",
       "        break;\n",
       "    case 2:\n",
       "        cursor = 'crosshair';\n",
       "        break;\n",
       "    case 3:\n",
       "        cursor = 'move';\n",
       "        break;\n",
       "    }\n",
       "    fig.rubberband_canvas.style.cursor = cursor;\n",
       "}\n",
       "\n",
       "mpl.figure.prototype.handle_message = function(fig, msg) {\n",
       "    fig.message.textContent = msg['message'];\n",
       "}\n",
       "\n",
       "mpl.figure.prototype.handle_draw = function(fig, msg) {\n",
       "    // Request the server to send over a new figure.\n",
       "    fig.send_draw_message();\n",
       "}\n",
       "\n",
       "mpl.figure.prototype.handle_image_mode = function(fig, msg) {\n",
       "    fig.image_mode = msg['mode'];\n",
       "}\n",
       "\n",
       "mpl.figure.prototype.updated_canvas_event = function() {\n",
       "    // Called whenever the canvas gets updated.\n",
       "    this.send_message(\"ack\", {});\n",
       "}\n",
       "\n",
       "// A function to construct a web socket function for onmessage handling.\n",
       "// Called in the figure constructor.\n",
       "mpl.figure.prototype._make_on_message_function = function(fig) {\n",
       "    return function socket_on_message(evt) {\n",
       "        if (evt.data instanceof Blob) {\n",
       "            /* FIXME: We get \"Resource interpreted as Image but\n",
       "             * transferred with MIME type text/plain:\" errors on\n",
       "             * Chrome.  But how to set the MIME type?  It doesn't seem\n",
       "             * to be part of the websocket stream */\n",
       "            evt.data.type = \"image/png\";\n",
       "\n",
       "            /* Free the memory for the previous frames */\n",
       "            if (fig.imageObj.src) {\n",
       "                (window.URL || window.webkitURL).revokeObjectURL(\n",
       "                    fig.imageObj.src);\n",
       "            }\n",
       "\n",
       "            fig.imageObj.src = (window.URL || window.webkitURL).createObjectURL(\n",
       "                evt.data);\n",
       "            fig.updated_canvas_event();\n",
       "            fig.waiting = false;\n",
       "            return;\n",
       "        }\n",
       "        else if (typeof evt.data === 'string' && evt.data.slice(0, 21) == \"data:image/png;base64\") {\n",
       "            fig.imageObj.src = evt.data;\n",
       "            fig.updated_canvas_event();\n",
       "            fig.waiting = false;\n",
       "            return;\n",
       "        }\n",
       "\n",
       "        var msg = JSON.parse(evt.data);\n",
       "        var msg_type = msg['type'];\n",
       "\n",
       "        // Call the  \"handle_{type}\" callback, which takes\n",
       "        // the figure and JSON message as its only arguments.\n",
       "        try {\n",
       "            var callback = fig[\"handle_\" + msg_type];\n",
       "        } catch (e) {\n",
       "            console.log(\"No handler for the '\" + msg_type + \"' message type: \", msg);\n",
       "            return;\n",
       "        }\n",
       "\n",
       "        if (callback) {\n",
       "            try {\n",
       "                // console.log(\"Handling '\" + msg_type + \"' message: \", msg);\n",
       "                callback(fig, msg);\n",
       "            } catch (e) {\n",
       "                console.log(\"Exception inside the 'handler_\" + msg_type + \"' callback:\", e, e.stack, msg);\n",
       "            }\n",
       "        }\n",
       "    };\n",
       "}\n",
       "\n",
       "// from http://stackoverflow.com/questions/1114465/getting-mouse-location-in-canvas\n",
       "mpl.findpos = function(e) {\n",
       "    //this section is from http://www.quirksmode.org/js/events_properties.html\n",
       "    var targ;\n",
       "    if (!e)\n",
       "        e = window.event;\n",
       "    if (e.target)\n",
       "        targ = e.target;\n",
       "    else if (e.srcElement)\n",
       "        targ = e.srcElement;\n",
       "    if (targ.nodeType == 3) // defeat Safari bug\n",
       "        targ = targ.parentNode;\n",
       "\n",
       "    // jQuery normalizes the pageX and pageY\n",
       "    // pageX,Y are the mouse positions relative to the document\n",
       "    // offset() returns the position of the element relative to the document\n",
       "    var x = e.pageX - $(targ).offset().left;\n",
       "    var y = e.pageY - $(targ).offset().top;\n",
       "\n",
       "    return {\"x\": x, \"y\": y};\n",
       "};\n",
       "\n",
       "/*\n",
       " * return a copy of an object with only non-object keys\n",
       " * we need this to avoid circular references\n",
       " * http://stackoverflow.com/a/24161582/3208463\n",
       " */\n",
       "function simpleKeys (original) {\n",
       "  return Object.keys(original).reduce(function (obj, key) {\n",
       "    if (typeof original[key] !== 'object')\n",
       "        obj[key] = original[key]\n",
       "    return obj;\n",
       "  }, {});\n",
       "}\n",
       "\n",
       "mpl.figure.prototype.mouse_event = function(event, name) {\n",
       "    var canvas_pos = mpl.findpos(event)\n",
       "\n",
       "    if (name === 'button_press')\n",
       "    {\n",
       "        this.canvas.focus();\n",
       "        this.canvas_div.focus();\n",
       "    }\n",
       "\n",
       "    var x = canvas_pos.x * mpl.ratio;\n",
       "    var y = canvas_pos.y * mpl.ratio;\n",
       "\n",
       "    this.send_message(name, {x: x, y: y, button: event.button,\n",
       "                             step: event.step,\n",
       "                             guiEvent: simpleKeys(event)});\n",
       "\n",
       "    /* This prevents the web browser from automatically changing to\n",
       "     * the text insertion cursor when the button is pressed.  We want\n",
       "     * to control all of the cursor setting manually through the\n",
       "     * 'cursor' event from matplotlib */\n",
       "    event.preventDefault();\n",
       "    return false;\n",
       "}\n",
       "\n",
       "mpl.figure.prototype._key_event_extra = function(event, name) {\n",
       "    // Handle any extra behaviour associated with a key event\n",
       "}\n",
       "\n",
       "mpl.figure.prototype.key_event = function(event, name) {\n",
       "\n",
       "    // Prevent repeat events\n",
       "    if (name == 'key_press')\n",
       "    {\n",
       "        if (event.which === this._key)\n",
       "            return;\n",
       "        else\n",
       "            this._key = event.which;\n",
       "    }\n",
       "    if (name == 'key_release')\n",
       "        this._key = null;\n",
       "\n",
       "    var value = '';\n",
       "    if (event.ctrlKey && event.which != 17)\n",
       "        value += \"ctrl+\";\n",
       "    if (event.altKey && event.which != 18)\n",
       "        value += \"alt+\";\n",
       "    if (event.shiftKey && event.which != 16)\n",
       "        value += \"shift+\";\n",
       "\n",
       "    value += 'k';\n",
       "    value += event.which.toString();\n",
       "\n",
       "    this._key_event_extra(event, name);\n",
       "\n",
       "    this.send_message(name, {key: value,\n",
       "                             guiEvent: simpleKeys(event)});\n",
       "    return false;\n",
       "}\n",
       "\n",
       "mpl.figure.prototype.toolbar_button_onclick = function(name) {\n",
       "    if (name == 'download') {\n",
       "        this.handle_save(this, null);\n",
       "    } else {\n",
       "        this.send_message(\"toolbar_button\", {name: name});\n",
       "    }\n",
       "};\n",
       "\n",
       "mpl.figure.prototype.toolbar_button_onmouseover = function(tooltip) {\n",
       "    this.message.textContent = tooltip;\n",
       "};\n",
       "mpl.toolbar_items = [[\"Home\", \"Reset original view\", \"fa fa-home icon-home\", \"home\"], [\"Back\", \"Back to previous view\", \"fa fa-arrow-left icon-arrow-left\", \"back\"], [\"Forward\", \"Forward to next view\", \"fa fa-arrow-right icon-arrow-right\", \"forward\"], [\"\", \"\", \"\", \"\"], [\"Pan\", \"Pan axes with left mouse, zoom with right\", \"fa fa-arrows icon-move\", \"pan\"], [\"Zoom\", \"Zoom to rectangle\", \"fa fa-square-o icon-check-empty\", \"zoom\"], [\"\", \"\", \"\", \"\"], [\"Download\", \"Download plot\", \"fa fa-floppy-o icon-save\", \"download\"]];\n",
       "\n",
       "mpl.extensions = [\"eps\", \"jpeg\", \"pdf\", \"png\", \"ps\", \"raw\", \"svg\", \"tif\"];\n",
       "\n",
       "mpl.default_extension = \"png\";var comm_websocket_adapter = function(comm) {\n",
       "    // Create a \"websocket\"-like object which calls the given IPython comm\n",
       "    // object with the appropriate methods. Currently this is a non binary\n",
       "    // socket, so there is still some room for performance tuning.\n",
       "    var ws = {};\n",
       "\n",
       "    ws.close = function() {\n",
       "        comm.close()\n",
       "    };\n",
       "    ws.send = function(m) {\n",
       "        //console.log('sending', m);\n",
       "        comm.send(m);\n",
       "    };\n",
       "    // Register the callback with on_msg.\n",
       "    comm.on_msg(function(msg) {\n",
       "        //console.log('receiving', msg['content']['data'], msg);\n",
       "        // Pass the mpl event to the overridden (by mpl) onmessage function.\n",
       "        ws.onmessage(msg['content']['data'])\n",
       "    });\n",
       "    return ws;\n",
       "}\n",
       "\n",
       "mpl.mpl_figure_comm = function(comm, msg) {\n",
       "    // This is the function which gets called when the mpl process\n",
       "    // starts-up an IPython Comm through the \"matplotlib\" channel.\n",
       "\n",
       "    var id = msg.content.data.id;\n",
       "    // Get hold of the div created by the display call when the Comm\n",
       "    // socket was opened in Python.\n",
       "    var element = $(\"#\" + id);\n",
       "    var ws_proxy = comm_websocket_adapter(comm)\n",
       "\n",
       "    function ondownload(figure, format) {\n",
       "        window.open(figure.imageObj.src);\n",
       "    }\n",
       "\n",
       "    var fig = new mpl.figure(id, ws_proxy,\n",
       "                           ondownload,\n",
       "                           element.get(0));\n",
       "\n",
       "    // Call onopen now - mpl needs it, as it is assuming we've passed it a real\n",
       "    // web socket which is closed, not our websocket->open comm proxy.\n",
       "    ws_proxy.onopen();\n",
       "\n",
       "    fig.parent_element = element.get(0);\n",
       "    fig.cell_info = mpl.find_output_cell(\"<div id='\" + id + \"'></div>\");\n",
       "    if (!fig.cell_info) {\n",
       "        console.error(\"Failed to find cell for figure\", id, fig);\n",
       "        return;\n",
       "    }\n",
       "\n",
       "    var output_index = fig.cell_info[2]\n",
       "    var cell = fig.cell_info[0];\n",
       "\n",
       "};\n",
       "\n",
       "mpl.figure.prototype.handle_close = function(fig, msg) {\n",
       "    var width = fig.canvas.width/mpl.ratio\n",
       "    fig.root.unbind('remove')\n",
       "\n",
       "    // Update the output cell to use the data from the current canvas.\n",
       "    fig.push_to_output();\n",
       "    var dataURL = fig.canvas.toDataURL();\n",
       "    // Re-enable the keyboard manager in IPython - without this line, in FF,\n",
       "    // the notebook keyboard shortcuts fail.\n",
       "    IPython.keyboard_manager.enable()\n",
       "    $(fig.parent_element).html('<img src=\"' + dataURL + '\" width=\"' + width + '\">');\n",
       "    fig.close_ws(fig, msg);\n",
       "}\n",
       "\n",
       "mpl.figure.prototype.close_ws = function(fig, msg){\n",
       "    fig.send_message('closing', msg);\n",
       "    // fig.ws.close()\n",
       "}\n",
       "\n",
       "mpl.figure.prototype.push_to_output = function(remove_interactive) {\n",
       "    // Turn the data on the canvas into data in the output cell.\n",
       "    var width = this.canvas.width/mpl.ratio\n",
       "    var dataURL = this.canvas.toDataURL();\n",
       "    this.cell_info[1]['text/html'] = '<img src=\"' + dataURL + '\" width=\"' + width + '\">';\n",
       "}\n",
       "\n",
       "mpl.figure.prototype.updated_canvas_event = function() {\n",
       "    // Tell IPython that the notebook contents must change.\n",
       "    IPython.notebook.set_dirty(true);\n",
       "    this.send_message(\"ack\", {});\n",
       "    var fig = this;\n",
       "    // Wait a second, then push the new image to the DOM so\n",
       "    // that it is saved nicely (might be nice to debounce this).\n",
       "    setTimeout(function () { fig.push_to_output() }, 1000);\n",
       "}\n",
       "\n",
       "mpl.figure.prototype._init_toolbar = function() {\n",
       "    var fig = this;\n",
       "\n",
       "    var nav_element = $('<div/>')\n",
       "    nav_element.attr('style', 'width: 100%');\n",
       "    this.root.append(nav_element);\n",
       "\n",
       "    // Define a callback function for later on.\n",
       "    function toolbar_event(event) {\n",
       "        return fig.toolbar_button_onclick(event['data']);\n",
       "    }\n",
       "    function toolbar_mouse_event(event) {\n",
       "        return fig.toolbar_button_onmouseover(event['data']);\n",
       "    }\n",
       "\n",
       "    for(var toolbar_ind in mpl.toolbar_items){\n",
       "        var name = mpl.toolbar_items[toolbar_ind][0];\n",
       "        var tooltip = mpl.toolbar_items[toolbar_ind][1];\n",
       "        var image = mpl.toolbar_items[toolbar_ind][2];\n",
       "        var method_name = mpl.toolbar_items[toolbar_ind][3];\n",
       "\n",
       "        if (!name) { continue; };\n",
       "\n",
       "        var button = $('<button class=\"btn btn-default\" href=\"#\" title=\"' + name + '\"><i class=\"fa ' + image + ' fa-lg\"></i></button>');\n",
       "        button.click(method_name, toolbar_event);\n",
       "        button.mouseover(tooltip, toolbar_mouse_event);\n",
       "        nav_element.append(button);\n",
       "    }\n",
       "\n",
       "    // Add the status bar.\n",
       "    var status_bar = $('<span class=\"mpl-message\" style=\"text-align:right; float: right;\"/>');\n",
       "    nav_element.append(status_bar);\n",
       "    this.message = status_bar[0];\n",
       "\n",
       "    // Add the close button to the window.\n",
       "    var buttongrp = $('<div class=\"btn-group inline pull-right\"></div>');\n",
       "    var button = $('<button class=\"btn btn-mini btn-primary\" href=\"#\" title=\"Stop Interaction\"><i class=\"fa fa-power-off icon-remove icon-large\"></i></button>');\n",
       "    button.click(function (evt) { fig.handle_close(fig, {}); } );\n",
       "    button.mouseover('Stop Interaction', toolbar_mouse_event);\n",
       "    buttongrp.append(button);\n",
       "    var titlebar = this.root.find($('.ui-dialog-titlebar'));\n",
       "    titlebar.prepend(buttongrp);\n",
       "}\n",
       "\n",
       "mpl.figure.prototype._root_extra_style = function(el){\n",
       "    var fig = this\n",
       "    el.on(\"remove\", function(){\n",
       "\tfig.close_ws(fig, {});\n",
       "    });\n",
       "}\n",
       "\n",
       "mpl.figure.prototype._canvas_extra_style = function(el){\n",
       "    // this is important to make the div 'focusable\n",
       "    el.attr('tabindex', 0)\n",
       "    // reach out to IPython and tell the keyboard manager to turn it's self\n",
       "    // off when our div gets focus\n",
       "\n",
       "    // location in version 3\n",
       "    if (IPython.notebook.keyboard_manager) {\n",
       "        IPython.notebook.keyboard_manager.register_events(el);\n",
       "    }\n",
       "    else {\n",
       "        // location in version 2\n",
       "        IPython.keyboard_manager.register_events(el);\n",
       "    }\n",
       "\n",
       "}\n",
       "\n",
       "mpl.figure.prototype._key_event_extra = function(event, name) {\n",
       "    var manager = IPython.notebook.keyboard_manager;\n",
       "    if (!manager)\n",
       "        manager = IPython.keyboard_manager;\n",
       "\n",
       "    // Check for shift+enter\n",
       "    if (event.shiftKey && event.which == 13) {\n",
       "        this.canvas_div.blur();\n",
       "        event.shiftKey = false;\n",
       "        // Send a \"J\" for go to next cell\n",
       "        event.which = 74;\n",
       "        event.keyCode = 74;\n",
       "        manager.command_mode();\n",
       "        manager.handle_keydown(event);\n",
       "    }\n",
       "}\n",
       "\n",
       "mpl.figure.prototype.handle_save = function(fig, msg) {\n",
       "    fig.ondownload(fig, null);\n",
       "}\n",
       "\n",
       "\n",
       "mpl.find_output_cell = function(html_output) {\n",
       "    // Return the cell and output element which can be found *uniquely* in the notebook.\n",
       "    // Note - this is a bit hacky, but it is done because the \"notebook_saving.Notebook\"\n",
       "    // IPython event is triggered only after the cells have been serialised, which for\n",
       "    // our purposes (turning an active figure into a static one), is too late.\n",
       "    var cells = IPython.notebook.get_cells();\n",
       "    var ncells = cells.length;\n",
       "    for (var i=0; i<ncells; i++) {\n",
       "        var cell = cells[i];\n",
       "        if (cell.cell_type === 'code'){\n",
       "            for (var j=0; j<cell.output_area.outputs.length; j++) {\n",
       "                var data = cell.output_area.outputs[j];\n",
       "                if (data.data) {\n",
       "                    // IPython >= 3 moved mimebundle to data attribute of output\n",
       "                    data = data.data;\n",
       "                }\n",
       "                if (data['text/html'] == html_output) {\n",
       "                    return [cell, data, j];\n",
       "                }\n",
       "            }\n",
       "        }\n",
       "    }\n",
       "}\n",
       "\n",
       "// Register the function which deals with the matplotlib target/channel.\n",
       "// The kernel may be null if the page has been refreshed.\n",
       "if (IPython.notebook.kernel != null) {\n",
       "    IPython.notebook.kernel.comm_manager.register_target('matplotlib', mpl.mpl_figure_comm);\n",
       "}\n"
      ],
      "text/plain": [
       "<IPython.core.display.Javascript object>"
      ]
     },
     "metadata": {},
     "output_type": "display_data"
    },
    {
     "data": {
      "text/html": [
       "<img src=\"data:image/png;base64,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\" width=\"700\">"
      ],
      "text/plain": [
       "<IPython.core.display.HTML object>"
      ]
     },
     "metadata": {},
     "output_type": "display_data"
    },
    {
     "name": "stdout",
     "output_type": "stream",
     "text": [
      "Maximum:  0.7571014761924744\n",
      "Minimum:  0.13675148785114288\n"
     ]
    }
   ],
   "source": [
    "loadimg(0)"
   ]
  },
  {
   "cell_type": "code",
   "execution_count": null,
   "metadata": {
    "collapsed": true
   },
   "outputs": [],
   "source": []
  }
 ],
 "metadata": {
  "kernelspec": {
   "display_name": "Python 3",
   "language": "python",
   "name": "python3"
  },
  "language_info": {
   "codemirror_mode": {
    "name": "ipython",
    "version": 3
   },
   "file_extension": ".py",
   "mimetype": "text/x-python",
   "name": "python",
   "nbconvert_exporter": "python",
   "pygments_lexer": "ipython3",
   "version": "3.6.8"
  },
  "widgets": {
   "application/vnd.jupyter.widget-state+json": {
    "state": {
     "05877063d5b24cca9b3d7454c6156bfb": {
      "model_module": "jupyter-js-widgets",
      "model_module_version": "~2.1.4",
      "model_name": "DropdownModel",
      "state": {
       "_model_module_version": "~2.1.4",
       "_options_labels": [
        " Ground or water surface",
        " Specified height level above ground",
        " Mean sea level"
       ],
       "_view_module_version": "~2.1.4",
       "description": "Select level type:",
       "layout": "IPY_MODEL_6d0e44b3771240dea7a4c6ae2793f87b",
       "value": " Ground or water surface"
      }
     },
     "078e428c2a274fd8b56152dfe64f4820": {
      "model_module": "jupyter-js-widgets",
      "model_module_version": "~2.1.4",
      "model_name": "SliderStyleModel",
      "state": {
       "_model_module_version": "~2.1.4",
       "_view_module_version": "~2.1.4"
      }
     },
     "190d36d630ab4ecd82868b827b5f8449": {
      "model_module": "jupyter-js-widgets",
      "model_module_version": "~2.1.4",
      "model_name": "DropdownModel",
      "state": {
       "_model_module_version": "~2.1.4",
       "_options_labels": [
        "cmc_rdwp-wave-model_north_atlantic",
        "cmc_rdwp-wave-model_north_pacific",
        "dwd_wam_europe",
        "dwd_wam_global",
        "cmems_medsea_wave_analysis_forecast_0042"
       ],
       "_view_module_version": "~2.1.4",
       "description": "Select dataset:",
       "layout": "IPY_MODEL_6b0db959ba3e4d9189b7aabd7baf9409",
       "value": "cmc_rdwp-wave-model_north_atlantic"
      }
     },
     "1972775f86b24108b41141a9f3625805": {
      "model_module": "jupyter-js-widgets",
      "model_module_version": "~2.1.4",
      "model_name": "DropdownModel",
      "state": {
       "_model_module_version": "~2.1.4",
       "_options_labels": [
        "Peak wave period ",
        "Mean period of wind waves ",
        "Significant height of swell waves ",
        "Significant height of combined wind waves and swell ",
        "Direction of wind waves ",
        "Significant height of wind waves ",
        "Direction of swell waves ",
        "Ice cover ",
        "Mean period of swell waves "
       ],
       "_view_module_version": "~2.1.4",
       "description": "Select variable:",
       "layout": "IPY_MODEL_668b2a17e0ab4393aba215394b2d7f50",
       "value": "Significant height of swell waves "
      }
     },
     "1ee2462e4a9843d19c82a1044da1f5ea": {
      "model_module": "jupyter-js-widgets",
      "model_module_version": "~2.1.4",
      "model_name": "VBoxModel",
      "state": {
       "_dom_classes": [
        "widget-interact"
       ],
       "_model_module_version": "~2.1.4",
       "_view_module_version": "~2.1.4",
       "children": [
        "IPY_MODEL_481f13e422724af9bfa62fc8c07f6b17",
        "IPY_MODEL_b359ee36017a4237ab9ec78ca1251049"
       ],
       "layout": "IPY_MODEL_b1469eea536d42de832af022b881d83a"
      }
     },
     "32b8afe58b0b462a8bc124cdc4a1a8cb": {
      "model_module": "jupyter-js-widgets",
      "model_module_version": "~2.1.4",
      "model_name": "LayoutModel",
      "state": {
       "_model_module_version": "~2.1.4",
       "_view_module_version": "~2.1.4"
      }
     },
     "481f13e422724af9bfa62fc8c07f6b17": {
      "model_module": "jupyter-js-widgets",
      "model_module_version": "~2.1.4",
      "model_name": "IntSliderModel",
      "state": {
       "_model_module_version": "~2.1.4",
       "_view_module_version": "~2.1.4",
       "description": "k",
       "layout": "IPY_MODEL_ceedd272d8b846958667c2a0eec78238",
       "max": 16,
       "style": "IPY_MODEL_078e428c2a274fd8b56152dfe64f4820",
       "value": 1
      }
     },
     "4820d1a17cf64e9581644ec79516d986": {
      "model_module": "jupyter-js-widgets",
      "model_module_version": "~2.1.4",
      "model_name": "LayoutModel",
      "state": {
       "_model_module_version": "~2.1.4",
       "_view_module_version": "~2.1.4",
       "width": "100%"
      }
     },
     "5cd8e1cdc81b4b72a3d60e3de3d2dd34": {
      "model_module": "jupyter-js-widgets",
      "model_module_version": "~2.1.4",
      "model_name": "LayoutModel",
      "state": {
       "_model_module_version": "~2.1.4",
       "_view_module_version": "~2.1.4"
      }
     },
     "668b2a17e0ab4393aba215394b2d7f50": {
      "model_module": "jupyter-js-widgets",
      "model_module_version": "~2.1.4",
      "model_name": "LayoutModel",
      "state": {
       "_model_module_version": "~2.1.4",
       "_view_module_version": "~2.1.4"
      }
     },
     "6811cec1cdf4416b957791e50a0f8059": {
      "model_module": "jupyter-js-widgets",
      "model_module_version": "~2.1.4",
      "model_name": "DropdownModel",
      "state": {
       "_model_module_version": "~2.1.4",
       "_options_labels": [
        "Peak wave period ",
        "Mean period of wind waves ",
        "Significant height of swell waves ",
        "Significant height of combined wind waves and swell ",
        "Direction of wind waves ",
        "Significant height of wind waves ",
        "Direction of swell waves ",
        "Ice cover ",
        "Mean period of swell waves "
       ],
       "_view_module_version": "~2.1.4",
       "description": "Select variable:",
       "layout": "IPY_MODEL_32b8afe58b0b462a8bc124cdc4a1a8cb",
       "value": "Significant height of swell waves "
      }
     },
     "6b0db959ba3e4d9189b7aabd7baf9409": {
      "model_module": "jupyter-js-widgets",
      "model_module_version": "~2.1.4",
      "model_name": "LayoutModel",
      "state": {
       "_model_module_version": "~2.1.4",
       "_view_module_version": "~2.1.4"
      }
     },
     "6d0e44b3771240dea7a4c6ae2793f87b": {
      "model_module": "jupyter-js-widgets",
      "model_module_version": "~2.1.4",
      "model_name": "LayoutModel",
      "state": {
       "_model_module_version": "~2.1.4",
       "_view_module_version": "~2.1.4"
      }
     },
     "7188b5615c4f49b886cff037c3d0f863": {
      "model_module": "jupyter-js-widgets",
      "model_module_version": "~2.1.4",
      "model_name": "OutputModel",
      "state": {
       "_dom_classes": [],
       "_model_module": "jupyter-js-widgets",
       "_model_module_version": "~2.1.4",
       "_view_module": "jupyter-js-widgets",
       "_view_module_version": "~2.1.4",
       "layout": "IPY_MODEL_91543c0b75364a1d8366c66510a9d5a7",
       "msg_throttle": 1
      }
     },
     "7452720b16224a45808b41d759dd23ae": {
      "model_module": "jupyter-js-widgets",
      "model_module_version": "~2.1.4",
      "model_name": "DropdownModel",
      "state": {
       "_model_module_version": "~2.1.4",
       "_options_labels": [
        " Ground or water surface",
        " Specified height level above ground",
        " Mean sea level"
       ],
       "_view_module_version": "~2.1.4",
       "description": "Select level type:",
       "layout": "IPY_MODEL_5cd8e1cdc81b4b72a3d60e3de3d2dd34",
       "value": " Ground or water surface"
      }
     },
     "8c1124c32f214d929041dc483b8601e2": {
      "model_module": "jupyter-js-widgets",
      "model_module_version": "~2.1.4",
      "model_name": "DropdownModel",
      "state": {
       "_model_module_version": "~2.1.4",
       "_options_labels": [
        "cmc_rdwp-wave-model_north_atlantic",
        "cmc_rdwp-wave-model_north_pacific",
        "dwd_wam_europe",
        "dwd_wam_global",
        "cmems_medsea_wave_analysis_forecast_0042"
       ],
       "_view_module_version": "~2.1.4",
       "description": "Select dataset:",
       "layout": "IPY_MODEL_f9bf76c6c93a49b09c88c957a6538093",
       "value": "cmc_rdwp-wave-model_north_atlantic"
      }
     },
     "91543c0b75364a1d8366c66510a9d5a7": {
      "model_module": "jupyter-js-widgets",
      "model_module_version": "~2.1.4",
      "model_name": "LayoutModel",
      "state": {
       "_model_module_version": "~2.1.4",
       "_view_module_version": "~2.1.4"
      }
     },
     "a1cd62bb3da74594a19cf6bfcee1ab9b": {
      "model_module": "jupyter-js-widgets",
      "model_module_version": "~2.1.4",
      "model_name": "DropdownModel",
      "state": {
       "_model_module_version": "~2.1.4",
       "_options_labels": [
        "cmc_rdwp-wave-model_north_atlantic",
        "cmc_rdwp-wave-model_north_pacific",
        "dwd_wam_europe",
        "dwd_wam_global",
        "cmems_medsea_wave_analysis_forecast_0042"
       ],
       "_view_module_version": "~2.1.4",
       "description": "Select dataset:",
       "layout": "IPY_MODEL_d38aea133b284fc586c7d865e9b320d6",
       "value": "cmc_rdwp-wave-model_north_pacific"
      }
     },
     "a31d088f2bb3435a8ff5858b97021de2": {
      "model_module": "jupyter-js-widgets",
      "model_module_version": "~2.1.4",
      "model_name": "LayoutModel",
      "state": {
       "_model_module_version": "~2.1.4",
       "_view_module_version": "~2.1.4"
      }
     },
     "b1469eea536d42de832af022b881d83a": {
      "model_module": "jupyter-js-widgets",
      "model_module_version": "~2.1.4",
      "model_name": "LayoutModel",
      "state": {
       "_model_module_version": "~2.1.4",
       "_view_module_version": "~2.1.4"
      }
     },
     "b359ee36017a4237ab9ec78ca1251049": {
      "model_module": "jupyter-js-widgets",
      "model_module_version": "~2.1.4",
      "model_name": "OutputModel",
      "state": {
       "_dom_classes": [],
       "_model_module": "jupyter-js-widgets",
       "_model_module_version": "~2.1.4",
       "_view_module": "jupyter-js-widgets",
       "_view_module_version": "~2.1.4",
       "layout": "IPY_MODEL_a31d088f2bb3435a8ff5858b97021de2",
       "msg_throttle": 1
      }
     },
     "b80589bd40294766be17990ed7c7073c": {
      "model_module": "jupyter-js-widgets",
      "model_module_version": "~2.1.4",
      "model_name": "LayoutModel",
      "state": {
       "_model_module_version": "~2.1.4",
       "_view_module_version": "~2.1.4"
      }
     },
     "ceedd272d8b846958667c2a0eec78238": {
      "model_module": "jupyter-js-widgets",
      "model_module_version": "~2.1.4",
      "model_name": "LayoutModel",
      "state": {
       "_model_module_version": "~2.1.4",
       "_view_module_version": "~2.1.4",
       "width": "100%"
      }
     },
     "d0e2c61bd6d640b98a043bb56632d6c5": {
      "model_module": "jupyter-js-widgets",
      "model_module_version": "~2.1.4",
      "model_name": "SliderStyleModel",
      "state": {
       "_model_module_version": "~2.1.4",
       "_view_module_version": "~2.1.4"
      }
     },
     "d38aea133b284fc586c7d865e9b320d6": {
      "model_module": "jupyter-js-widgets",
      "model_module_version": "~2.1.4",
      "model_name": "LayoutModel",
      "state": {
       "_model_module_version": "~2.1.4",
       "_view_module_version": "~2.1.4"
      }
     },
     "d567a932824b4cda8ec4de29e9e1676f": {
      "model_module": "jupyter-js-widgets",
      "model_module_version": "~2.1.4",
      "model_name": "VBoxModel",
      "state": {
       "_dom_classes": [
        "widget-interact"
       ],
       "_model_module_version": "~2.1.4",
       "_view_module_version": "~2.1.4",
       "children": [
        "IPY_MODEL_f5e8c84d64714c39a1ca754dba65e2fb",
        "IPY_MODEL_7188b5615c4f49b886cff037c3d0f863"
       ],
       "layout": "IPY_MODEL_b80589bd40294766be17990ed7c7073c"
      }
     },
     "f5e8c84d64714c39a1ca754dba65e2fb": {
      "model_module": "jupyter-js-widgets",
      "model_module_version": "~2.1.4",
      "model_name": "IntSliderModel",
      "state": {
       "_model_module_version": "~2.1.4",
       "_view_module_version": "~2.1.4",
       "description": "k",
       "layout": "IPY_MODEL_4820d1a17cf64e9581644ec79516d986",
       "max": 16,
       "style": "IPY_MODEL_d0e2c61bd6d640b98a043bb56632d6c5"
      }
     },
     "f9bf76c6c93a49b09c88c957a6538093": {
      "model_module": "jupyter-js-widgets",
      "model_module_version": "~2.1.4",
      "model_name": "LayoutModel",
      "state": {
       "_model_module_version": "~2.1.4",
       "_view_module_version": "~2.1.4"
      }
     }
    },
    "version_major": 1,
    "version_minor": 0
   }
  }
 },
 "nbformat": 4,
 "nbformat_minor": 2
}
