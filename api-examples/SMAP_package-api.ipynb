{
 "cells": [
  {
   "cell_type": "markdown",
   "metadata": {},
   "source": [
    "# Soil Moisture Active Passive (SMAP) Level 4 Data demo\n",
    "In this demo we are downloading data using Planet OS Package-API which let's us use bigger amount of data with less time than raster API. \n",
    "We are showing Portugal and Spain droughts what might have been a reason for over 600 wildfires that happend during summer and autumn 2017. Note that dates in the demo has changed and therefore description might not be relevant "
   ]
  },
  {
   "cell_type": "code",
   "execution_count": 1,
   "metadata": {
    "collapsed": true
   },
   "outputs": [],
   "source": [
    "import time\n",
    "import os\n",
    "from package_api import download_data\n",
    "import xarray as xr\n",
    "from netCDF4 import Dataset, num2date\n",
    "from mpl_toolkits.basemap import Basemap\n",
    "import matplotlib.pyplot as plt\n",
    "import numpy as np\n",
    "import matplotlib\n",
    "import datetime\n",
    "import warnings\n",
    "warnings.filterwarnings(\"ignore\",category=matplotlib.cbook.mplDeprecation)"
   ]
  },
  {
   "cell_type": "markdown",
   "metadata": {},
   "source": [
    "<font color='red'>Please put your datahub API key into a file called APIKEY and place it to the notebook folder or assign your API key directly to the variable API_key!</font>"
   ]
  },
  {
   "cell_type": "code",
   "execution_count": 2,
   "metadata": {
    "collapsed": true
   },
   "outputs": [],
   "source": [
    "API_key = open('APIKEY').read().strip()"
   ]
  },
  {
   "cell_type": "markdown",
   "metadata": {},
   "source": [
    "Here we define the area we are intrested, time range from where we want to have the data, dataset key to use and variable name."
   ]
  },
  {
   "cell_type": "code",
   "execution_count": 3,
   "metadata": {
    "collapsed": true
   },
   "outputs": [],
   "source": [
    "latitude_south = 15.9; latitude_north = 69.5\n",
    "longitude_west = -17.6; longitude_east = 38.6\n",
    "\n",
    "area = 'europe'\n",
    "date = datetime.datetime.now() - datetime.timedelta(days=5)\n",
    "time_start = date.strftime('%Y-%m-%d') + 'T16:00:00'\n",
    "time_end = date.strftime('%Y-%m-%d') + 'T19:00:00'\n",
    "dataset_key = 'nasa_smap_spl4smau'\n",
    "variable = 'Analysis_Data__sm_surface_analysis'"
   ]
  },
  {
   "cell_type": "markdown",
   "metadata": {},
   "source": [
    "This one here is generating working directory, we need it to know where we are going to save data. No worries, we will delete file after using it! "
   ]
  },
  {
   "cell_type": "code",
   "execution_count": 4,
   "metadata": {
    "collapsed": true
   },
   "outputs": [],
   "source": [
    "folder = os.path.realpath('.') + '/'"
   ]
  },
  {
   "cell_type": "markdown",
   "metadata": {},
   "source": [
    "Now we ara making a function for making images "
   ]
  },
  {
   "cell_type": "code",
   "execution_count": 5,
   "metadata": {
    "collapsed": true
   },
   "outputs": [],
   "source": [
    "def make_image(lon,lat,data,date,latitude_north, latitude_south,longitude_west, longitude_east,unit,**kwargs):\n",
    "    m = Basemap(projection='merc', lat_0 = 55, lon_0 = -4,\n",
    "         resolution = 'i', area_thresh = 0.05,\n",
    "         llcrnrlon=longitude_west, llcrnrlat=latitude_south,\n",
    "         urcrnrlon=longitude_east, urcrnrlat=latitude_north)\n",
    "    lons,lats = np.meshgrid(lon,lat)\n",
    "    lonmap,latmap = m(lons,lats)\n",
    "    \n",
    "    if len(kwargs) > 0:\n",
    "        fig=plt.figure(figsize=(10,8))\n",
    "        plt.subplot(221)\n",
    "        m.drawcoastlines()\n",
    "        m.drawcountries()\n",
    "        c = m.pcolormesh(lonmap,latmap,data,vmin = 0.01,vmax = 0.35)\n",
    "        plt.title(date)\n",
    "        \n",
    "        plt.subplot(222)\n",
    "        m.drawcoastlines()\n",
    "        m.drawcountries()\n",
    "        plt.title(kwargs['date_later'])\n",
    "        m.pcolormesh(lonmap,latmap,kwargs['data_later'],vmin = 0.01,vmax = 0.35)\n",
    "        \n",
    "        \n",
    "        \n",
    "    else:\n",
    "        fig=plt.figure(figsize=(9,7))\n",
    "        m.drawcoastlines()\n",
    "        m.drawcountries()\n",
    "        c = m.pcolormesh(lonmap,latmap,data,vmin = 0.01,vmax = 0.35)\n",
    "        plt.title(date)\n",
    "    \n",
    "    cbar = plt.colorbar(c)\n",
    "    cbar.set_label(unit)\n",
    "    plt.show()"
   ]
  },
  {
   "cell_type": "markdown",
   "metadata": {},
   "source": [
    "Here we are downloading data by using Package-API. If you are intrested how data is downloaded, find the file named `package_api.py` from notebook folder."
   ]
  },
  {
   "cell_type": "code",
   "execution_count": 6,
   "metadata": {},
   "outputs": [
    {
     "name": "stdout",
     "output_type": "stream",
     "text": [
      "https://api.planetos.com/v1/packages/nasa_smap_spl4smau_20190925T160000to20190925T190000_europe?apikey=8428878e4b944abeb84790e832c633fc\n"
     ]
    },
    {
     "ename": "Exception",
     "evalue": "Provided filter does not contain any data. Please choose another date",
     "output_type": "error",
     "traceback": [
      "\u001b[0;31m---------------------------------------------------------------------------\u001b[0m",
      "\u001b[0;31mException\u001b[0m                                 Traceback (most recent call last)",
      "\u001b[0;32m<ipython-input-6-a83fb9368ad0>\u001b[0m in \u001b[0;36m<module>\u001b[0;34m()\u001b[0m\n\u001b[0;32m----> 1\u001b[0;31m \u001b[0mpackage_key\u001b[0m \u001b[0;34m=\u001b[0m \u001b[0mdownload_data\u001b[0m\u001b[0;34m(\u001b[0m\u001b[0mfolder\u001b[0m\u001b[0;34m,\u001b[0m\u001b[0mdataset_key\u001b[0m\u001b[0;34m,\u001b[0m\u001b[0mAPI_key\u001b[0m\u001b[0;34m,\u001b[0m\u001b[0mlongitude_west\u001b[0m\u001b[0;34m,\u001b[0m\u001b[0mlongitude_east\u001b[0m\u001b[0;34m,\u001b[0m\u001b[0mlatitude_south\u001b[0m\u001b[0;34m,\u001b[0m\u001b[0mlatitude_north\u001b[0m\u001b[0;34m,\u001b[0m\u001b[0mtime_start\u001b[0m\u001b[0;34m,\u001b[0m\u001b[0mtime_end\u001b[0m\u001b[0;34m,\u001b[0m\u001b[0mvariable\u001b[0m\u001b[0;34m,\u001b[0m\u001b[0marea\u001b[0m\u001b[0;34m)\u001b[0m\u001b[0;34m\u001b[0m\u001b[0;34m\u001b[0m\u001b[0m\n\u001b[0m",
      "\u001b[0;32m/Users/etoodu/Desktop/planetOS/git/notebooks/api-examples/package_api.py\u001b[0m in \u001b[0;36mdownload_data\u001b[0;34m(folder, dataset_key, API_key, longitude_west, longitude_east, latitude_south, latitude_north, time_start, time_end, variable, area)\u001b[0m\n\u001b[1;32m     95\u001b[0m     \u001b[0;32mif\u001b[0m \u001b[0;32mnot\u001b[0m \u001b[0mos\u001b[0m\u001b[0;34m.\u001b[0m\u001b[0mpath\u001b[0m\u001b[0;34m.\u001b[0m\u001b[0mexists\u001b[0m\u001b[0;34m(\u001b[0m\u001b[0mfolder\u001b[0m \u001b[0;34m+\u001b[0m \u001b[0;34m'/'\u001b[0m \u001b[0;34m+\u001b[0m \u001b[0mpackage_key\u001b[0m \u001b[0;34m+\u001b[0m \u001b[0;34m'.nc'\u001b[0m\u001b[0;34m)\u001b[0m\u001b[0;34m:\u001b[0m\u001b[0;34m\u001b[0m\u001b[0;34m\u001b[0m\u001b[0m\n\u001b[1;32m     96\u001b[0m         \u001b[0mmake_package\u001b[0m\u001b[0;34m(\u001b[0m\u001b[0mput_http\u001b[0m\u001b[0;34m,\u001b[0m\u001b[0mget_status_http\u001b[0m\u001b[0;34m)\u001b[0m\u001b[0;34m\u001b[0m\u001b[0;34m\u001b[0m\u001b[0m\n\u001b[0;32m---> 97\u001b[0;31m         \u001b[0mget_stats\u001b[0m \u001b[0;34m=\u001b[0m \u001b[0mget_package\u001b[0m\u001b[0;34m(\u001b[0m\u001b[0mget_data_http\u001b[0m\u001b[0;34m,\u001b[0m\u001b[0mget_status_http\u001b[0m\u001b[0;34m,\u001b[0m\u001b[0mpackage_key\u001b[0m\u001b[0;34m)\u001b[0m\u001b[0;34m\u001b[0m\u001b[0;34m\u001b[0m\u001b[0m\n\u001b[0m\u001b[1;32m     98\u001b[0m         \u001b[0;32mif\u001b[0m \u001b[0mget_stats\u001b[0m \u001b[0;34m==\u001b[0m \u001b[0;34m'Package not downloaded'\u001b[0m\u001b[0;34m:\u001b[0m\u001b[0;34m\u001b[0m\u001b[0;34m\u001b[0m\u001b[0m\n\u001b[1;32m     99\u001b[0m             \u001b[0mprint\u001b[0m \u001b[0;34m(\u001b[0m\u001b[0;34m'Package download was unsuccessful, please wait a few seconds...'\u001b[0m\u001b[0;34m)\u001b[0m\u001b[0;34m\u001b[0m\u001b[0;34m\u001b[0m\u001b[0m\n",
      "\u001b[0;32m/Users/etoodu/Desktop/planetOS/git/notebooks/api-examples/package_api.py\u001b[0m in \u001b[0;36mget_package\u001b[0;34m(get_data_http, get_status_http, package_key)\u001b[0m\n\u001b[1;32m     61\u001b[0m         \u001b[0;32mif\u001b[0m \u001b[0mstats_json\u001b[0m\u001b[0;34m[\u001b[0m\u001b[0;34m'packageResult'\u001b[0m\u001b[0;34m]\u001b[0m\u001b[0;34m[\u001b[0m\u001b[0;34m'success'\u001b[0m\u001b[0;34m]\u001b[0m \u001b[0;34m==\u001b[0m \u001b[0;32mTrue\u001b[0m\u001b[0;34m:\u001b[0m\u001b[0;34m\u001b[0m\u001b[0;34m\u001b[0m\u001b[0m\n\u001b[1;32m     62\u001b[0m             \u001b[0;32mif\u001b[0m \u001b[0;34m'does not contain'\u001b[0m \u001b[0;32min\u001b[0m \u001b[0mstats_json\u001b[0m\u001b[0;34m[\u001b[0m\u001b[0;34m'packageStatus'\u001b[0m\u001b[0;34m]\u001b[0m\u001b[0;34m[\u001b[0m\u001b[0;34m'message'\u001b[0m\u001b[0;34m]\u001b[0m\u001b[0;34m:\u001b[0m\u001b[0;34m\u001b[0m\u001b[0;34m\u001b[0m\u001b[0m\n\u001b[0;32m---> 63\u001b[0;31m                 \u001b[0;32mraise\u001b[0m \u001b[0mException\u001b[0m\u001b[0;34m(\u001b[0m\u001b[0;34m(\u001b[0m\u001b[0mstr\u001b[0m\u001b[0;34m(\u001b[0m\u001b[0mstats_json\u001b[0m\u001b[0;34m[\u001b[0m\u001b[0;34m'packageStatus'\u001b[0m\u001b[0;34m]\u001b[0m\u001b[0;34m[\u001b[0m\u001b[0;34m'message'\u001b[0m\u001b[0;34m]\u001b[0m\u001b[0;34m)\u001b[0m\u001b[0;34m)\u001b[0m \u001b[0;34m+\u001b[0m \u001b[0;34m' Please choose another date'\u001b[0m\u001b[0;34m)\u001b[0m\u001b[0;34m\u001b[0m\u001b[0;34m\u001b[0m\u001b[0m\n\u001b[0m\u001b[1;32m     64\u001b[0m \u001b[0;34m\u001b[0m\u001b[0m\n\u001b[1;32m     65\u001b[0m             \u001b[0;32melse\u001b[0m\u001b[0;34m:\u001b[0m\u001b[0;34m\u001b[0m\u001b[0;34m\u001b[0m\u001b[0m\n",
      "\u001b[0;31mException\u001b[0m: Provided filter does not contain any data. Please choose another date"
     ]
    }
   ],
   "source": [
    "package_key = download_data(folder,dataset_key,API_key,longitude_west,longitude_east,latitude_south,latitude_north,time_start,time_end,variable,area)"
   ]
  },
  {
   "cell_type": "markdown",
   "metadata": {},
   "source": [
    "Now we have data and we are reading it in using xarray:"
   ]
  },
  {
   "cell_type": "code",
   "execution_count": null,
   "metadata": {},
   "outputs": [],
   "source": [
    "filename_europe = package_key + '.nc'\n",
    "data = xr.open_dataset(filename_europe)\n",
    "surface_soil_moisture_data = data.Analysis_Data__sm_surface_analysis\n",
    "unit = surface_soil_moisture_data.units\n",
    "surface_soil_moisture = data.Analysis_Data__sm_surface_analysis.values[0,:,:]\n",
    "surface_soil_moisture = np.ma.masked_where(np.isnan(surface_soil_moisture),surface_soil_moisture)\n",
    "\n",
    "latitude = data.lat; longitude = data.lon\n",
    "lat = latitude.values\n",
    "lon = longitude.values\n",
    "date = str(data.time.values[0])[:-10]"
   ]
  },
  {
   "cell_type": "markdown",
   "metadata": {},
   "source": [
    "Here we are making image by using function defined above. \n",
    "In this image we can see how dry Iberian peninsula (Portugal and Spain) was during wildfires in October. On 15th October strong winds from the  Hurricane Ophelia quickly spread flames along the Iberian coast. We can see that on that day Iberian peninsula soil moisture was comparable with African deserts. "
   ]
  },
  {
   "cell_type": "code",
   "execution_count": null,
   "metadata": {
    "scrolled": true
   },
   "outputs": [],
   "source": [
    "make_image(lon,lat,surface_soil_moisture,date,latitude_north, latitude_south,longitude_west, longitude_east,unit)"
   ]
  },
  {
   "cell_type": "markdown",
   "metadata": {},
   "source": [
    "So let's see Portugal and Spain littlebit closer. For that we need to define the area and we will slice data from this area. "
   ]
  },
  {
   "cell_type": "code",
   "execution_count": null,
   "metadata": {
    "collapsed": true
   },
   "outputs": [],
   "source": [
    "iberia_west = -10; iberia_east = 3.3\n",
    "iberia_south = 35; iberia_north = 45\n",
    "\n",
    "lon_ib = longitude.sel(lon=slice(iberia_west,iberia_east)).values\n",
    "lat_ib = latitude.sel(lat=slice(iberia_north,iberia_south)).values\n",
    "soil_ib = surface_soil_moisture_data.sel(lat=slice(iberia_north,iberia_south),lon=slice(iberia_west,iberia_east)).values[0,:,:]\n",
    "soil_ib = np.ma.masked_where(np.isnan(soil_ib),soil_ib)"
   ]
  },
  {
   "cell_type": "markdown",
   "metadata": {},
   "source": [
    "Let's also import some data from 21th October when it started raining a few days before."
   ]
  },
  {
   "cell_type": "code",
   "execution_count": null,
   "metadata": {},
   "outputs": [],
   "source": [
    "date = datetime.datetime.now() - datetime.timedelta(days=4)\n",
    "time_start = date.strftime('%Y-%m-%d') + 'T16:00:00'\n",
    "time_end = date.strftime('%Y-%m-%d') + 'T19:00:00'\n",
    "package_key_iberia = download_data(folder,dataset_key,API_key,iberia_west,iberia_east,iberia_south,iberia_north,time_start,time_end,variable,area)\n",
    "\n",
    "filename_iberia = package_key_iberia + '.nc'\n",
    "data_later = xr.open_dataset(filename_iberia)\n",
    "soil_data_later = data_later.Analysis_Data__sm_surface_analysis\n",
    "soil_later = data_later.Analysis_Data__sm_surface_analysis.values[0,:,:]\n",
    "soil_later = np.ma.masked_where(np.isnan(soil_later),soil_later)\n",
    "\n",
    "latitude_ib = data.lat; longitude_ib = data.lon\n",
    "lat_ibl = latitude_ib.values\n",
    "lon_ibl = longitude_ib.values\n",
    "date_later = str(data_later.time.values[0])[:-10]"
   ]
  },
  {
   "cell_type": "markdown",
   "metadata": {},
   "source": [
    "Now we are making two images from the same area - Portugal and Spain. \n",
    "On the left image we can see soil moisture values on 15th October and on the right image we can see soil moisture on 21th October.\n",
    "\n",
    "We can see that the land was getting littlebit wetter with a few days. It even helped firefighters to get wildfires under control. "
   ]
  },
  {
   "cell_type": "code",
   "execution_count": null,
   "metadata": {},
   "outputs": [],
   "source": [
    "make_image(lon_ib,lat_ib,soil_ib,date,iberia_north, iberia_south,iberia_west, iberia_east, unit, data_later = soil_later,date_later = date_later)"
   ]
  },
  {
   "cell_type": "markdown",
   "metadata": {},
   "source": [
    "Finally, let's delete files we downloaded:"
   ]
  },
  {
   "cell_type": "code",
   "execution_count": null,
   "metadata": {
    "collapsed": true
   },
   "outputs": [],
   "source": [
    "if os.path.exists(filename_europe):\n",
    "    os.remove(filename_europe)\n",
    "if os.path.exists(filename_iberia):\n",
    "    os.remove(filename_iberia)"
   ]
  },
  {
   "cell_type": "code",
   "execution_count": null,
   "metadata": {
    "collapsed": true
   },
   "outputs": [],
   "source": []
  }
 ],
 "metadata": {
  "kernelspec": {
   "display_name": "Python 3",
   "language": "python",
   "name": "python3"
  },
  "language_info": {
   "codemirror_mode": {
    "name": "ipython",
    "version": 3
   },
   "file_extension": ".py",
   "mimetype": "text/x-python",
   "name": "python",
   "nbconvert_exporter": "python",
   "pygments_lexer": "ipython3",
   "version": "3.6.8"
  }
 },
 "nbformat": 4,
 "nbformat_minor": 2
}
