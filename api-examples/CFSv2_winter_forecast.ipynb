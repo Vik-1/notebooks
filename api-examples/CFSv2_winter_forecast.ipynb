{
 "cells": [
  {
   "cell_type": "markdown",
   "metadata": {},
   "source": [
    "# Using a CFSv2 forecast\n",
    "\n",
    "__[CFSv2](https://data.planetos.com/datasets/ncep_cfsv2)__  is a seasonal forecast system, used for analysing past climate and also making seasonal, up to 9-month, forecasts. Here we give a brief example on how to use Planet OS API to merge 9-month forecasts started at different initial times, into a single ensemble forecast.\n",
    "\n",
    "Ensemble forecasting is a traditional technique in medium range (up to 10 days) weather forecasts, seasonal forecasts and climate modelling. By changing initial conditions or model parameters, a range of forecasts is created, which differ from each other slightly, due to the chaotic nature of fluid dynamics (which weather modelling is a subset of). For weather forecasting, the ensemble is usually created by small changes in initial conditions, but for seasonal forecast, it is much easier to just take real initial conditions every 6-hours. Here we are going to show, first how to merge the different dates into a single plot with the help of python pandas library, and in addition we show that even 6-hour changes in initial conditions can lead to large variability in long range forecasts. \n",
    "\n",
    "In this example we look into 2 m temperture for upcoming winter. We are also adding climatological averages from __[CFS Reanalysis Climatologies](https://data.planetos.com/datasets/ncep_cfsr_climatologies)__ to the plot for better overview. \n",
    "\n",
    "If you have more interest in Planet OS API, please refer to our official __[documentation](data.planetos.com/datasets)__.\n",
    "\n",
    "Please also note that the `API_client` python routine, used in this notebook, is still experimental and will change in the future, so take it just as a guidance using the API, and not as an official tool."
   ]
  },
  {
   "cell_type": "code",
   "execution_count": 6,
   "metadata": {},
   "outputs": [
    {
     "name": "stdout",
     "output_type": "stream",
     "text": [
      "3.0.3\n"
     ]
    }
   ],
   "source": [
    "%matplotlib notebook\n",
    "import numpy as np\n",
    "import pandas as pd\n",
    "import matplotlib.pyplot as plt\n",
    "import calendar\n",
    "import matplotlib.dates as mdates\n",
    "from API_client.python.datahub import datahub_main\n",
    "from API_client.python.lib.dataset import dataset\n",
    "from API_client.python.lib.variables import variables\n",
    "import matplotlib\n",
    "import warnings\n",
    "warnings.filterwarnings(\"ignore\")\n",
    "matplotlib.rcParams['font.family'] = 'Avenir Lt Std'\n",
    "print (matplotlib.__version__)"
   ]
  },
  {
   "cell_type": "markdown",
   "metadata": {},
   "source": [
    "The API needs a file `APIKEY` with your API key in the work folder. We initialize a datahub and dataset objects."
   ]
  },
  {
   "cell_type": "code",
   "execution_count": 7,
   "metadata": {
    "collapsed": true
   },
   "outputs": [],
   "source": [
    "apikey = open('APIKEY').readlines()[0].strip()\n",
    "dh = datahub_main(apikey)\n",
    "ds = dataset('ncep_cfsv2', dh, debug=False)\n",
    "ds2 = dataset('ncep_cfsr_climatologies', dh, debug=False)"
   ]
  },
  {
   "cell_type": "code",
   "execution_count": null,
   "metadata": {
    "collapsed": true
   },
   "outputs": [],
   "source": [
    "ds.vars = variables(ds.variables(), {'reftimes':ds.reftimes,'timesteps':ds.timesteps},ds)\n",
    "ds2.vars = variables(ds2.variables(), {},ds2)"
   ]
  },
  {
   "cell_type": "markdown",
   "metadata": {},
   "source": [
    "At the moment we are going to look into Tallinn, Innsbruck, Paris, Berlin and Lisbon temperature. In order to the automatic location selection to work, add your custom location to the `API_client.python.lib.predef_locations` file and after add your location into the list of locations here. "
   ]
  },
  {
   "cell_type": "code",
   "execution_count": null,
   "metadata": {},
   "outputs": [],
   "source": [
    "locations = ['Tallinn','Innsbruck','Paris','Berlin','Lisbon']\n",
    "for locat in locations:\n",
    "    ds2.vars.TMAX_2maboveground.get_values_analysis(count=1000, location=locat)\n",
    "    ds.vars.Temperature_height_above_ground.get_values(count=1000, location=locat, reftime='2019-10-20T00:00:00',\n",
    "                                                            reftime_end='2019-11-02T18:00:00')"
   ]
  },
  {
   "cell_type": "markdown",
   "metadata": {},
   "source": [
    "Here we clean the table just a bit and create time based index."
   ]
  },
  {
   "cell_type": "code",
   "execution_count": null,
   "metadata": {
    "collapsed": true
   },
   "outputs": [],
   "source": [
    "def clean_table(loc):\n",
    "    ddd_clim = ds2.vars.TMAX_2maboveground.values[loc][['time','TMAX_2maboveground']]\n",
    "    ddd_temp = ds.vars.Temperature_height_above_ground.values[loc][['reftime','time','Temperature_height_above_ground']]\n",
    "    dd_temp=ddd_temp.set_index('time')\n",
    "    \n",
    "    return ddd_clim,dd_temp"
   ]
  },
  {
   "cell_type": "markdown",
   "metadata": {},
   "source": [
    "Next, we resample the data to 1-month totals."
   ]
  },
  {
   "cell_type": "code",
   "execution_count": null,
   "metadata": {
    "collapsed": true
   },
   "outputs": [],
   "source": [
    "def resample_1month_totals(loc):\n",
    "    reft_unique = ds.vars.Temperature_height_above_ground.values[loc]['reftime'].unique()\n",
    "    nf_tmp = []\n",
    "    for reft in reft_unique:\n",
    "        abc = dd_temp[dd_temp.reftime==reft].resample('M').mean()\n",
    "        abc['Temperature_height_above_ground'+'_'+reft.astype(str)] = \\\n",
    "             abc['Temperature_height_above_ground'] - 272.15\n",
    "        del abc['Temperature_height_above_ground']\n",
    "        nf_tmp.append(abc)\n",
    "    nf2_tmp = pd.concat(nf_tmp,axis=1)\n",
    "    return nf2_tmp"
   ]
  },
  {
   "cell_type": "code",
   "execution_count": null,
   "metadata": {
    "collapsed": true
   },
   "outputs": [],
   "source": [
    "\n"
   ]
  },
  {
   "cell_type": "markdown",
   "metadata": {},
   "source": [
    "Give new indexes to climatology dataframe to have data ordered the same way as cfsv2 forecast."
   ]
  },
  {
   "cell_type": "code",
   "execution_count": null,
   "metadata": {
    "collapsed": true
   },
   "outputs": [],
   "source": [
    "def reindex_clim_convert_temp():\n",
    "    i_new = 0\n",
    "    ddd_clim_new_indxes = ddd_clim.copy()\n",
    "    new_indexes = []\n",
    "    converted_temp = []\n",
    "    for i,clim_values in enumerate(ddd_clim['TMAX_2maboveground']):\n",
    "        if i == 0:\n",
    "            i_new = 12 - nf2_tmp.index[0].month + 2\n",
    "        else:\n",
    "            i_new = i_new + 1\n",
    "            if i_new == 13:\n",
    "                i_new = 1\n",
    "\n",
    "        new_indexes.append(i_new)\n",
    "        converted_temp.append(ddd_clim_new_indxes['TMAX_2maboveground'][i] -272.15)\n",
    "    ddd_clim_new_indxes['new_index'] = new_indexes\n",
    "    ddd_clim_new_indxes['tmp_c'] = converted_temp\n",
    "    return ddd_clim_new_indxes"
   ]
  },
  {
   "cell_type": "markdown",
   "metadata": {},
   "source": [
    "Finally, we are visualizing the monthly mean temperature for each different forecast, in a single plot. "
   ]
  },
  {
   "cell_type": "code",
   "execution_count": null,
   "metadata": {
    "collapsed": true
   },
   "outputs": [],
   "source": [
    "def make_image(loc):\n",
    "    fig=plt.figure(figsize=(10,8))\n",
    "    ax = fig.add_subplot(111)\n",
    "    plt.ylim(np.min(np.min(nf2_tmp))-3,np.max(np.max(nf2_tmp))+3)\n",
    "    plt.boxplot(nf2_tmp,medianprops=dict(color='#1B9AA0'))\n",
    "    dates2 = [n.strftime('%b %Y') for n in nf2_tmp.index]\n",
    "    plt.plot(np.arange(2, len(dates2)),ddd_clim_indexed.sort_values(by=['new_index'])['tmp_c'][1:-3],\"*\",color='#EC5840',linestyle='-')\n",
    "    plt.xticks(np.arange(2, len(dates2)), dates2[1:-1], rotation='vertical')\n",
    "    plt.grid(color='#C3C8CE',alpha=1)\n",
    "    plt.ylabel('Monthly Temperature [C]')\n",
    "    ttl = plt.title('Monthly Temperature in ' + loc,fontsize=15,fontweight='bold')\n",
    "    ttl.set_position([.5, 1.05])\n",
    "    fig.autofmt_xdate() \n",
    "    #plt.savefig('Monthly_mean_temp_cfsv2_forecast_{0}.png'.format(loc),dpi=300,bbox_inches='tight')\n",
    "    plt.show()\n",
    "    "
   ]
  },
  {
   "cell_type": "markdown",
   "metadata": {},
   "source": [
    "Below we can find five location graphs. It's forecasted that November seems to be quite similar to climatological mean (red line) while December might be much warmer than usual. January again is pretty similar to the climatology. After January all the months are forecasted to be colder as average, specially April and May. \n",
    "\n",
    "Forecast for Innsbruck is intresting. It's forecasted that upcoming seven months will be colder as usual. For example, January mean temperature might be two degrees lower.\n",
    "\n",
    "In the same time, Paris might face bit colder November, while December and January could be pretty average. After that, all the forecasted values are rather colder as climatology.\n",
    "\n",
    "Berlin might get pretty average November. However, after that December could get much colder. January and February could be quite average. After that, temperatures might be colder as usual. \n",
    "\n",
    "Temperatures in Lisbon are forecasted to be bit colder in winter and spring. However, May is forecasted to quite average, while June forecast is way warmer as climatological mean. "
   ]
  },
  {
   "cell_type": "code",
   "execution_count": null,
   "metadata": {},
   "outputs": [],
   "source": [
    "for locat in locations:\n",
    "    ddd_clim,dd_temp = clean_table(locat)\n",
    "    nf2_tmp = resample_1month_totals(locat)\n",
    "    ddd_clim_indexed = reindex_clim_convert_temp()\n",
    "    make_image(locat)\n",
    "    "
   ]
  },
  {
   "cell_type": "markdown",
   "metadata": {},
   "source": [
    "In conclusion, temprerature varies a lot over Europe. Every region has it's own pattern. Keep in mind that it's just a forecast and it might be totally different. However, let us know if it was right for your location. "
   ]
  },
  {
   "cell_type": "code",
   "execution_count": null,
   "metadata": {
    "collapsed": true
   },
   "outputs": [],
   "source": []
  }
 ],
 "metadata": {
  "kernelspec": {
   "display_name": "Python 3",
   "language": "python",
   "name": "python3"
  },
  "language_info": {
   "codemirror_mode": {
    "name": "ipython",
    "version": 3
   },
   "file_extension": ".py",
   "mimetype": "text/x-python",
   "name": "python",
   "nbconvert_exporter": "python",
   "pygments_lexer": "ipython3",
   "version": "3.6.8"
  }
 },
 "nbformat": 4,
 "nbformat_minor": 2
}
